{
 "cells": [
  {
   "cell_type": "code",
   "execution_count": 4,
   "id": "latter-vision",
   "metadata": {
    "ExecuteTime": {
     "end_time": "2022-02-12T00:24:39.709595Z",
     "start_time": "2022-02-12T00:24:39.705147Z"
    }
   },
   "outputs": [],
   "source": [
    "import pandas as pd\n",
    "import matplotlib.pyplot as plt\n",
    "import os"
   ]
  },
  {
   "cell_type": "code",
   "execution_count": 3,
   "id": "following-extent",
   "metadata": {
    "ExecuteTime": {
     "end_time": "2022-02-12T00:24:32.053546Z",
     "start_time": "2022-02-12T00:24:32.050203Z"
    }
   },
   "outputs": [],
   "source": [
    "ruta = '/home/jose/Documentos/bd/stocks/full_history'"
   ]
  },
  {
   "cell_type": "code",
   "execution_count": 5,
   "id": "lightweight-fundamental",
   "metadata": {
    "ExecuteTime": {
     "end_time": "2022-02-12T00:25:31.307160Z",
     "start_time": "2022-02-12T00:25:31.304916Z"
    }
   },
   "outputs": [],
   "source": [
    "accion = 'NWHM'"
   ]
  },
  {
   "cell_type": "code",
   "execution_count": 16,
   "id": "configured-license",
   "metadata": {
    "ExecuteTime": {
     "end_time": "2022-02-12T00:28:24.053725Z",
     "start_time": "2022-02-12T00:28:24.029093Z"
    }
   },
   "outputs": [],
   "source": [
    "preciosAccion = pd.read_csv(os.path.join(ruta,f'{accion}.csv'))\n",
    "preciosAccion['date'] = pd.to_datetime(preciosAccion['date']).dt.date\n",
    "preciosAccion = preciosAccion.sort_values(by='date',ascending=False).head(30)[['date','close']].set_index('date')"
   ]
  },
  {
   "cell_type": "code",
   "execution_count": 24,
   "id": "exclusive-romania",
   "metadata": {
    "ExecuteTime": {
     "end_time": "2022-02-12T00:36:34.688211Z",
     "start_time": "2022-02-12T00:36:34.670596Z"
    }
   },
   "outputs": [
    {
     "data": {
      "text/html": [
       "<div>\n",
       "<style scoped>\n",
       "    .dataframe tbody tr th:only-of-type {\n",
       "        vertical-align: middle;\n",
       "    }\n",
       "\n",
       "    .dataframe tbody tr th {\n",
       "        vertical-align: top;\n",
       "    }\n",
       "\n",
       "    .dataframe thead th {\n",
       "        text-align: right;\n",
       "    }\n",
       "</style>\n",
       "<table border=\"1\" class=\"dataframe\">\n",
       "  <thead>\n",
       "    <tr style=\"text-align: right;\">\n",
       "      <th></th>\n",
       "      <th>close</th>\n",
       "    </tr>\n",
       "    <tr>\n",
       "      <th>date</th>\n",
       "      <th></th>\n",
       "    </tr>\n",
       "  </thead>\n",
       "  <tbody>\n",
       "    <tr>\n",
       "      <th>2020-07-02</th>\n",
       "      <td>3.20</td>\n",
       "    </tr>\n",
       "    <tr>\n",
       "      <th>2020-07-01</th>\n",
       "      <td>3.18</td>\n",
       "    </tr>\n",
       "    <tr>\n",
       "      <th>2020-06-30</th>\n",
       "      <td>3.36</td>\n",
       "    </tr>\n",
       "    <tr>\n",
       "      <th>2020-06-29</th>\n",
       "      <td>3.23</td>\n",
       "    </tr>\n",
       "    <tr>\n",
       "      <th>2020-06-26</th>\n",
       "      <td>3.01</td>\n",
       "    </tr>\n",
       "    <tr>\n",
       "      <th>2020-06-25</th>\n",
       "      <td>3.04</td>\n",
       "    </tr>\n",
       "    <tr>\n",
       "      <th>2020-06-24</th>\n",
       "      <td>3.08</td>\n",
       "    </tr>\n",
       "    <tr>\n",
       "      <th>2020-06-23</th>\n",
       "      <td>3.40</td>\n",
       "    </tr>\n",
       "    <tr>\n",
       "      <th>2020-06-22</th>\n",
       "      <td>3.43</td>\n",
       "    </tr>\n",
       "    <tr>\n",
       "      <th>2020-06-19</th>\n",
       "      <td>3.35</td>\n",
       "    </tr>\n",
       "    <tr>\n",
       "      <th>2020-06-18</th>\n",
       "      <td>3.51</td>\n",
       "    </tr>\n",
       "    <tr>\n",
       "      <th>2020-06-17</th>\n",
       "      <td>3.60</td>\n",
       "    </tr>\n",
       "    <tr>\n",
       "      <th>2020-06-16</th>\n",
       "      <td>3.54</td>\n",
       "    </tr>\n",
       "    <tr>\n",
       "      <th>2020-06-15</th>\n",
       "      <td>3.27</td>\n",
       "    </tr>\n",
       "    <tr>\n",
       "      <th>2020-06-12</th>\n",
       "      <td>3.02</td>\n",
       "    </tr>\n",
       "    <tr>\n",
       "      <th>2020-06-11</th>\n",
       "      <td>3.22</td>\n",
       "    </tr>\n",
       "    <tr>\n",
       "      <th>2020-06-10</th>\n",
       "      <td>3.61</td>\n",
       "    </tr>\n",
       "    <tr>\n",
       "      <th>2020-06-09</th>\n",
       "      <td>3.58</td>\n",
       "    </tr>\n",
       "    <tr>\n",
       "      <th>2020-06-08</th>\n",
       "      <td>3.46</td>\n",
       "    </tr>\n",
       "    <tr>\n",
       "      <th>2020-06-05</th>\n",
       "      <td>3.56</td>\n",
       "    </tr>\n",
       "    <tr>\n",
       "      <th>2020-06-04</th>\n",
       "      <td>3.70</td>\n",
       "    </tr>\n",
       "    <tr>\n",
       "      <th>2020-06-03</th>\n",
       "      <td>3.83</td>\n",
       "    </tr>\n",
       "    <tr>\n",
       "      <th>2020-06-02</th>\n",
       "      <td>3.65</td>\n",
       "    </tr>\n",
       "    <tr>\n",
       "      <th>2020-06-01</th>\n",
       "      <td>3.49</td>\n",
       "    </tr>\n",
       "    <tr>\n",
       "      <th>2020-05-29</th>\n",
       "      <td>3.09</td>\n",
       "    </tr>\n",
       "    <tr>\n",
       "      <th>2020-05-28</th>\n",
       "      <td>3.23</td>\n",
       "    </tr>\n",
       "    <tr>\n",
       "      <th>2020-05-27</th>\n",
       "      <td>3.78</td>\n",
       "    </tr>\n",
       "    <tr>\n",
       "      <th>2020-05-26</th>\n",
       "      <td>3.45</td>\n",
       "    </tr>\n",
       "    <tr>\n",
       "      <th>2020-05-22</th>\n",
       "      <td>3.35</td>\n",
       "    </tr>\n",
       "    <tr>\n",
       "      <th>2020-05-21</th>\n",
       "      <td>3.07</td>\n",
       "    </tr>\n",
       "  </tbody>\n",
       "</table>\n",
       "</div>"
      ],
      "text/plain": [
       "            close\n",
       "date             \n",
       "2020-07-02   3.20\n",
       "2020-07-01   3.18\n",
       "2020-06-30   3.36\n",
       "2020-06-29   3.23\n",
       "2020-06-26   3.01\n",
       "2020-06-25   3.04\n",
       "2020-06-24   3.08\n",
       "2020-06-23   3.40\n",
       "2020-06-22   3.43\n",
       "2020-06-19   3.35\n",
       "2020-06-18   3.51\n",
       "2020-06-17   3.60\n",
       "2020-06-16   3.54\n",
       "2020-06-15   3.27\n",
       "2020-06-12   3.02\n",
       "2020-06-11   3.22\n",
       "2020-06-10   3.61\n",
       "2020-06-09   3.58\n",
       "2020-06-08   3.46\n",
       "2020-06-05   3.56\n",
       "2020-06-04   3.70\n",
       "2020-06-03   3.83\n",
       "2020-06-02   3.65\n",
       "2020-06-01   3.49\n",
       "2020-05-29   3.09\n",
       "2020-05-28   3.23\n",
       "2020-05-27   3.78\n",
       "2020-05-26   3.45\n",
       "2020-05-22   3.35\n",
       "2020-05-21   3.07"
      ]
     },
     "execution_count": 24,
     "metadata": {},
     "output_type": "execute_result"
    }
   ],
   "source": [
    "preciosAccion"
   ]
  },
  {
   "cell_type": "code",
   "execution_count": 23,
   "id": "answering-router",
   "metadata": {
    "ExecuteTime": {
     "end_time": "2022-02-12T00:31:45.041487Z",
     "start_time": "2022-02-12T00:31:44.842449Z"
    }
   },
   "outputs": [
    {
     "data": {
      "image/png": "[encoded data removed]",
      "text/plain": [
       "<Figure size 432x288 with 1 Axes>"
      ]
     },
     "metadata": {
      "needs_background": "light"
     },
     "output_type": "display_data"
    }
   ],
   "source": [
    "fig = preciosAccion.plot(color='purple',marker='o')\n",
    "plt.title(accion)\n",
    "plt.xticks(rotation=90)\n",
    "plt.savefig(f'graficos/{accion}.png')"
   ]
  },
  {
   "cell_type": "code",
   "execution_count": null,
   "id": "induced-vegetation",
   "metadata": {},
   "outputs": [],
   "source": []
  }
 ],
 "metadata": {
  "kernelspec": {
   "display_name": "bd",
   "language": "python",
   "name": "bd"
  },
  "language_info": {
   "codemirror_mode": {
    "name": "ipython",
    "version": 3
   },
   "file_extension": ".py",
   "mimetype": "text/x-python",
   "name": "python",
   "nbconvert_exporter": "python",
   "pygments_lexer": "ipython3",
   "version": "3.9.1"
  },
  "toc": {
   "base_numbering": 1,
   "nav_menu": {},
   "number_sections": true,
   "sideBar": true,
   "skip_h1_title": false,
   "title_cell": "Table of Contents",
   "title_sidebar": "Contents",
   "toc_cell": false,
   "toc_position": {},
   "toc_section_display": true,
   "toc_window_display": false
  }
 },
 "nbformat": 4,
 "nbformat_minor": 5
}
