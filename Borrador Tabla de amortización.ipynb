{
 "cells": [
  {
   "cell_type": "code",
   "execution_count": 26,
   "id": "b04ec7e2",
   "metadata": {
    "ExecuteTime": {
     "end_time": "2022-02-10T01:05:40.142579Z",
     "start_time": "2022-02-10T01:05:40.140134Z"
    }
   },
   "outputs": [],
   "source": [
    "import numpy as np\n",
    "from numpy_financial import pmt\n",
    "import pandas as pd"
   ]
  },
  {
   "cell_type": "code",
   "execution_count": 27,
   "id": "a0d8b3bc",
   "metadata": {
    "ExecuteTime": {
     "end_time": "2022-02-10T01:05:40.327422Z",
     "start_time": "2022-02-10T01:05:40.144565Z"
    }
   },
   "outputs": [],
   "source": [
    "monto = 32999.04\n",
    "tasa = 0.4858\n",
    "plazo = 154\n"
   ]
  },
  {
   "cell_type": "code",
   "execution_count": 28,
   "id": "90f01027",
   "metadata": {
    "ExecuteTime": {
     "end_time": "2022-02-10T01:05:40.428948Z",
     "start_time": "2022-02-10T01:05:40.329229Z"
    }
   },
   "outputs": [
    {
     "data": {
      "text/plain": [
       "405.01"
      ]
     },
     "execution_count": 28,
     "metadata": {},
     "output_type": "execute_result"
    }
   ],
   "source": [
    "pago = -np.round(pmt(tasa/52,plazo,monto),2)\n",
    "pago"
   ]
  },
  {
   "cell_type": "code",
   "execution_count": 29,
   "id": "e8591664",
   "metadata": {
    "ExecuteTime": {
     "end_time": "2022-02-10T01:05:40.524790Z",
     "start_time": "2022-02-10T01:05:40.430757Z"
    }
   },
   "outputs": [],
   "source": [
    "sdoi = monto\n",
    "interes = sdoi*tasa/52\n",
    "cap = pago-interes\n",
    "iva = interes*0.16\n",
    "pago_con_iva = cap+interes+iva\n",
    "sdof = sdoi-cap"
   ]
  },
  {
   "cell_type": "code",
   "execution_count": 30,
   "id": "4420dc5d",
   "metadata": {
    "ExecuteTime": {
     "end_time": "2022-02-10T01:05:40.626615Z",
     "start_time": "2022-02-10T01:05:40.526883Z"
    }
   },
   "outputs": [
    {
     "data": {
      "text/plain": [
       "(32999.04, 405.01, 96.72, 308.29, 49.33, 454.34, 32902.32)"
      ]
     },
     "execution_count": 30,
     "metadata": {},
     "output_type": "execute_result"
    }
   ],
   "source": [
    "renglon = tuple(map(lambda x:np.round(x,2),\n",
    "                    (sdoi,pago,cap,interes,iva,pago_con_iva,sdof)))\n",
    "renglon"
   ]
  },
  {
   "cell_type": "code",
   "execution_count": 31,
   "id": "249ed7aa",
   "metadata": {
    "ExecuteTime": {
     "end_time": "2022-02-10T01:05:40.742050Z",
     "start_time": "2022-02-10T01:05:40.628890Z"
    }
   },
   "outputs": [],
   "source": [
    "l = [renglon]\n",
    "for _ in range(plazo-1):\n",
    "    sdoi = sdof\n",
    "    interes = sdoi*tasa/52\n",
    "    cap = pago-interes\n",
    "    iva = interes*0.16\n",
    "    pago_con_iva = cap+interes+iva\n",
    "    sdof = sdoi-cap\n",
    "    renglon = tuple(map(lambda x:np.round(x,2),\n",
    "                    (sdoi,pago,cap,interes,iva,pago_con_iva,sdof)))\n",
    "    l.append(renglon)"
   ]
  },
  {
   "cell_type": "code",
   "execution_count": 44,
   "id": "dd8dea05",
   "metadata": {
    "ExecuteTime": {
     "end_time": "2022-02-10T01:08:27.824986Z",
     "start_time": "2022-02-10T01:08:27.821189Z"
    }
   },
   "outputs": [],
   "source": [
    "tabla = pd.DataFrame(l,columns=['Saldo Inicial','Pago','Capital','Interés','IVA','Pago +Iva','Saldo Final'])\n",
    "tabla.insert(0,'i',tabla.index+1)"
   ]
  },
  {
   "cell_type": "code",
   "execution_count": 46,
   "id": "78f1d67a",
   "metadata": {
    "ExecuteTime": {
     "end_time": "2022-02-10T01:08:28.225797Z",
     "start_time": "2022-02-10T01:08:28.212634Z"
    }
   },
   "outputs": [
    {
     "data": {
      "text/html": [
       "<div>\n",
       "<style scoped>\n",
       "    .dataframe tbody tr th:only-of-type {\n",
       "        vertical-align: middle;\n",
       "    }\n",
       "\n",
       "    .dataframe tbody tr th {\n",
       "        vertical-align: top;\n",
       "    }\n",
       "\n",
       "    .dataframe thead th {\n",
       "        text-align: right;\n",
       "    }\n",
       "</style>\n",
       "<table border=\"1\" class=\"dataframe\">\n",
       "  <thead>\n",
       "    <tr style=\"text-align: right;\">\n",
       "      <th></th>\n",
       "      <th>i</th>\n",
       "      <th>Saldo Inicial</th>\n",
       "      <th>Pago</th>\n",
       "      <th>Capital</th>\n",
       "      <th>Interés</th>\n",
       "      <th>IVA</th>\n",
       "      <th>Pago +Iva</th>\n",
       "      <th>Saldo Final</th>\n",
       "    </tr>\n",
       "  </thead>\n",
       "  <tbody>\n",
       "    <tr>\n",
       "      <th>0</th>\n",
       "      <td>1</td>\n",
       "      <td>32999.04</td>\n",
       "      <td>405.01</td>\n",
       "      <td>96.72</td>\n",
       "      <td>308.29</td>\n",
       "      <td>49.33</td>\n",
       "      <td>454.34</td>\n",
       "      <td>32902.32</td>\n",
       "    </tr>\n",
       "    <tr>\n",
       "      <th>1</th>\n",
       "      <td>2</td>\n",
       "      <td>32902.32</td>\n",
       "      <td>405.01</td>\n",
       "      <td>97.63</td>\n",
       "      <td>307.38</td>\n",
       "      <td>49.18</td>\n",
       "      <td>454.19</td>\n",
       "      <td>32804.69</td>\n",
       "    </tr>\n",
       "    <tr>\n",
       "      <th>2</th>\n",
       "      <td>3</td>\n",
       "      <td>32804.69</td>\n",
       "      <td>405.01</td>\n",
       "      <td>98.54</td>\n",
       "      <td>306.47</td>\n",
       "      <td>49.04</td>\n",
       "      <td>454.05</td>\n",
       "      <td>32706.15</td>\n",
       "    </tr>\n",
       "    <tr>\n",
       "      <th>3</th>\n",
       "      <td>4</td>\n",
       "      <td>32706.15</td>\n",
       "      <td>405.01</td>\n",
       "      <td>99.46</td>\n",
       "      <td>305.55</td>\n",
       "      <td>48.89</td>\n",
       "      <td>453.90</td>\n",
       "      <td>32606.69</td>\n",
       "    </tr>\n",
       "    <tr>\n",
       "      <th>4</th>\n",
       "      <td>5</td>\n",
       "      <td>32606.69</td>\n",
       "      <td>405.01</td>\n",
       "      <td>100.39</td>\n",
       "      <td>304.62</td>\n",
       "      <td>48.74</td>\n",
       "      <td>453.75</td>\n",
       "      <td>32506.30</td>\n",
       "    </tr>\n",
       "    <tr>\n",
       "      <th>...</th>\n",
       "      <td>...</td>\n",
       "      <td>...</td>\n",
       "      <td>...</td>\n",
       "      <td>...</td>\n",
       "      <td>...</td>\n",
       "      <td>...</td>\n",
       "      <td>...</td>\n",
       "      <td>...</td>\n",
       "    </tr>\n",
       "    <tr>\n",
       "      <th>149</th>\n",
       "      <td>150</td>\n",
       "      <td>1970.58</td>\n",
       "      <td>405.01</td>\n",
       "      <td>386.60</td>\n",
       "      <td>18.41</td>\n",
       "      <td>2.95</td>\n",
       "      <td>407.96</td>\n",
       "      <td>1583.98</td>\n",
       "    </tr>\n",
       "    <tr>\n",
       "      <th>150</th>\n",
       "      <td>151</td>\n",
       "      <td>1583.98</td>\n",
       "      <td>405.01</td>\n",
       "      <td>390.21</td>\n",
       "      <td>14.80</td>\n",
       "      <td>2.37</td>\n",
       "      <td>407.38</td>\n",
       "      <td>1193.77</td>\n",
       "    </tr>\n",
       "    <tr>\n",
       "      <th>151</th>\n",
       "      <td>152</td>\n",
       "      <td>1193.77</td>\n",
       "      <td>405.01</td>\n",
       "      <td>393.86</td>\n",
       "      <td>11.15</td>\n",
       "      <td>1.78</td>\n",
       "      <td>406.79</td>\n",
       "      <td>799.91</td>\n",
       "    </tr>\n",
       "    <tr>\n",
       "      <th>152</th>\n",
       "      <td>153</td>\n",
       "      <td>799.91</td>\n",
       "      <td>405.01</td>\n",
       "      <td>397.54</td>\n",
       "      <td>7.47</td>\n",
       "      <td>1.20</td>\n",
       "      <td>406.21</td>\n",
       "      <td>402.38</td>\n",
       "    </tr>\n",
       "    <tr>\n",
       "      <th>153</th>\n",
       "      <td>154</td>\n",
       "      <td>402.38</td>\n",
       "      <td>405.01</td>\n",
       "      <td>401.25</td>\n",
       "      <td>3.76</td>\n",
       "      <td>0.60</td>\n",
       "      <td>405.61</td>\n",
       "      <td>1.13</td>\n",
       "    </tr>\n",
       "  </tbody>\n",
       "</table>\n",
       "<p>154 rows × 8 columns</p>\n",
       "</div>"
      ],
      "text/plain": [
       "       i  Saldo Inicial    Pago  Capital  Interés    IVA  Pago +Iva  \\\n",
       "0      1       32999.04  405.01    96.72   308.29  49.33     454.34   \n",
       "1      2       32902.32  405.01    97.63   307.38  49.18     454.19   \n",
       "2      3       32804.69  405.01    98.54   306.47  49.04     454.05   \n",
       "3      4       32706.15  405.01    99.46   305.55  48.89     453.90   \n",
       "4      5       32606.69  405.01   100.39   304.62  48.74     453.75   \n",
       "..   ...            ...     ...      ...      ...    ...        ...   \n",
       "149  150        1970.58  405.01   386.60    18.41   2.95     407.96   \n",
       "150  151        1583.98  405.01   390.21    14.80   2.37     407.38   \n",
       "151  152        1193.77  405.01   393.86    11.15   1.78     406.79   \n",
       "152  153         799.91  405.01   397.54     7.47   1.20     406.21   \n",
       "153  154         402.38  405.01   401.25     3.76   0.60     405.61   \n",
       "\n",
       "     Saldo Final  \n",
       "0       32902.32  \n",
       "1       32804.69  \n",
       "2       32706.15  \n",
       "3       32606.69  \n",
       "4       32506.30  \n",
       "..           ...  \n",
       "149      1583.98  \n",
       "150      1193.77  \n",
       "151       799.91  \n",
       "152       402.38  \n",
       "153         1.13  \n",
       "\n",
       "[154 rows x 8 columns]"
      ]
     },
     "execution_count": 46,
     "metadata": {},
     "output_type": "execute_result"
    }
   ],
   "source": [
    "tabla"
   ]
  },
  {
   "cell_type": "code",
   "execution_count": 52,
   "id": "98195b65",
   "metadata": {
    "ExecuteTime": {
     "end_time": "2022-02-10T01:10:24.530370Z",
     "start_time": "2022-02-10T01:10:24.459137Z"
    }
   },
   "outputs": [],
   "source": [
    "with pd.ExcelWriter('amort.xlsx') as xl:\n",
    "    tabla.to_excel(xl,sheet_name='Tabla de Amortización')"
   ]
  },
  {
   "cell_type": "code",
   "execution_count": null,
   "id": "8a437a09",
   "metadata": {},
   "outputs": [],
   "source": []
  }
 ],
 "metadata": {
  "kernelspec": {
   "display_name": "bd",
   "language": "python",
   "name": "bd"
  },
  "language_info": {
   "codemirror_mode": {
    "name": "ipython",
    "version": 3
   },
   "file_extension": ".py",
   "mimetype": "text/x-python",
   "name": "python",
   "nbconvert_exporter": "python",
   "pygments_lexer": "ipython3",
   "version": "3.9.1"
  },
  "toc": {
   "base_numbering": 1,
   "nav_menu": {},
   "number_sections": true,
   "sideBar": true,
   "skip_h1_title": false,
   "title_cell": "Table of Contents",
   "title_sidebar": "Contents",
   "toc_cell": false,
   "toc_position": {},
   "toc_section_display": true,
   "toc_window_display": false
  }
 },
 "nbformat": 4,
 "nbformat_minor": 5
}
