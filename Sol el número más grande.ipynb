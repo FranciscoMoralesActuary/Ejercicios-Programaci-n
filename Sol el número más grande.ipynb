{
 "cells": [
  {
   "cell_type": "code",
   "execution_count": 20,
   "metadata": {},
   "outputs": [
    {
     "name": "stdout",
     "output_type": "stream",
     "text": [
      "Ingresa la cantida de numeros que quieres ingresar a la lista: 4\n",
      "Ingresa el numero 0:h\n",
      "Argumento invalido\n"
     ]
    }
   ],
   "source": [
    "numeros = []\n",
    "try:\n",
    "    n = int(input(\"Ingresa la cantida de numeros que quieres ingresar a la lista: \"))\n",
    "    for i in range(n):\n",
    "        numeros.append(int(input(f'Ingresa el numero {i}:')))\n",
    "    numg = \"\".join(str(a) for a in numeros)\n",
    "    numeros1 = [int(a) for a in str(numg)]\n",
    "    numeros1.sort(reverse=True)\n",
    "    numeros1\n",
    "    numfinal = \"\".join(str(a) for a in numeros1)\n",
    "    print(f'El numero mas grande es {numfinal}')\n",
    "\n",
    "except:\n",
    "    print(\"Argumento invalido\")"
   ]
  },
  {
   "cell_type": "code",
   "execution_count": null,
   "metadata": {},
   "outputs": [],
   "source": [
    "# funcion que lea numeros\n",
    "# Funcion que arroje el numero mas grande \n",
    "# funcion principal\n"
   ]
  },
  {
   "cell_type": "code",
   "execution_count": null,
   "metadata": {},
   "outputs": [],
   "source": [
    "def leer_datos (a):\n",
    "    numeros = []\n",
    "    for i in range(a):\n",
    "        numeros.append(int(input(f'Ingresa el numero {i}:')))\n",
    "return numeros\n",
    "    \n",
    "    "
   ]
  },
  {
   "cell_type": "code",
   "execution_count": null,
   "metadata": {},
   "outputs": [],
   "source": [
    "def ordenar (lista):\n",
    "    numg = \"\".join(str(a) for a in lista)\n",
    "    numeros1 = [int(a) for a in str(numg)]\n",
    "    numeros1.sort(reverse=True)\n",
    "    numeros1\n",
    "    numfinal = \"\".join(str(a) for a in numeros1)\n",
    "return numfinal\n",
    "\n",
    "    "
   ]
  },
  {
   "cell_type": "code",
   "execution_count": null,
   "metadata": {},
   "outputs": [],
   "source": [
    "if __name__ == '__main__':\n",
    "    n = int(input(\"Ingresa la cantida de numeros que quieres ingresar a la lista: \"))\n",
    "    numeros=leer_datos(n)\n",
    "    nf=ordenar(numeros)\n",
    "    print(f'El numero mas grande es {nf}')"
   ]
  }
 ],
 "metadata": {
  "kernelspec": {
   "display_name": "Python 3",
   "language": "python",
   "name": "python3"
  },
  "language_info": {
   "codemirror_mode": {
    "name": "ipython",
    "version": 3
   },
   "file_extension": ".py",
   "mimetype": "text/x-python",
   "name": "python",
   "nbconvert_exporter": "python",
   "pygments_lexer": "ipython3",
   "version": "3.8.10"
  }
 },
 "nbformat": 4,
 "nbformat_minor": 4
}
